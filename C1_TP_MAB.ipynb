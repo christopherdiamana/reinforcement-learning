{
  "nbformat": 4,
  "nbformat_minor": 0,
  "metadata": {
    "kernelspec": {
      "display_name": "Python 3 (ipykernel)",
      "language": "python",
      "name": "python3"
    },
    "language_info": {
      "codemirror_mode": {
        "name": "ipython",
        "version": 3
      },
      "file_extension": ".py",
      "mimetype": "text/x-python",
      "name": "python",
      "nbconvert_exporter": "python",
      "pygments_lexer": "ipython3",
      "version": "3.8.11"
    },
    "colab": {
      "name": "C1 TP MAB.ipynb",
      "provenance": [],
      "include_colab_link": true
    },
    "accelerator": "GPU"
  },
  "cells": [
    {
      "cell_type": "markdown",
      "metadata": {
        "id": "view-in-github",
        "colab_type": "text"
      },
      "source": [
        "<a href=\"https://colab.research.google.com/github/christopherdiamana/reinforcement-learning/blob/main/C1_TP_MAB.ipynb\" target=\"_parent\"><img src=\"https://colab.research.google.com/assets/colab-badge.svg\" alt=\"Open In Colab\"/></a>"
      ]
    },
    {
      "cell_type": "markdown",
      "metadata": {
        "tags": [],
        "id": "JsKoGImDx34w"
      },
      "source": [
        "# Introduction à l'apprentissage par renforcement\n",
        "# TP 1 - les manchots multi-bras\n",
        "\n",
        "Etudiant·e : Christopher DIAMANA LUTETE"
      ]
    },
    {
      "cell_type": "code",
      "metadata": {
        "id": "I9ipCd6Gx34y"
      },
      "source": [
        "! pip install matplotlib tqdm numpy ipympl opencv-python\n",
        "!jupyter labextension install @jupyter-widgets/jupyterlab-manager\n",
        "!jupyter labextension install jupyter-matplotlib"
      ],
      "execution_count": null,
      "outputs": []
    },
    {
      "cell_type": "code",
      "metadata": {
        "colab": {
          "base_uri": "https://localhost:8080/"
        },
        "id": "URUxJEGxx34z",
        "outputId": "b6ffd640-bec2-4bff-d88f-be6d25329551"
      },
      "source": [
        "%load_ext autoreload\n",
        "%autoreload 2\n",
        "%matplotlib inline \n",
        "\n",
        "import math\n",
        "import torch\n",
        "import random\n",
        "import numpy as np\n",
        "from tqdm.auto import trange, tqdm\n",
        "import matplotlib.pyplot as plt\n",
        "from matplotlib.animation import FuncAnimation\n",
        "import matplotlib.animation as animation\n",
        "from matplotlib.backends.backend_agg import FigureCanvasAgg as FigureCanvas\n",
        "import cv2\n",
        "from IPython.display import display, clear_output\n",
        "\n",
        "torch.random.manual_seed(1)\n",
        "\n",
        "K = 5 # num arms"
      ],
      "execution_count": 39,
      "outputs": [
        {
          "output_type": "stream",
          "name": "stdout",
          "text": [
            "The autoreload extension is already loaded. To reload it, use:\n",
            "  %reload_ext autoreload\n"
          ]
        }
      ]
    },
    {
      "cell_type": "markdown",
      "metadata": {
        "id": "uRXV4Huvx34z"
      },
      "source": [
        "# Définition des vaccins"
      ]
    },
    {
      "cell_type": "code",
      "metadata": {
        "id": "_kJvGFiIx340"
      },
      "source": [
        "class ArmBernoulli:\n",
        "    def __init__(self, p: float):\n",
        "        \"\"\"\n",
        "        Vaccine treatment following a Bernoulli law\n",
        "        Args:\n",
        "             p (float): mean parameter\n",
        "             random_state (int): seed to make experiments reproducible\n",
        "        \"\"\"\n",
        "        self.mean = p\n",
        "        self.variance = p * (1. - p)\n",
        "\n",
        "    def sample(self):\n",
        "        return torch.rand(1) < self.mean\n",
        "    \n",
        "    def __repr__(self):\n",
        "        return f'<ArmBernoulli p={self.mean}' \n",
        "\n",
        "def generate_arms(num_arms: int):\n",
        "    means = torch.rand(num_arms)\n",
        "    MAB = [ArmBernoulli(m) for m in means]\n",
        "    assert(MAB[0].mean == means[0])\n",
        "    return MAB\n",
        "\n",
        "MAB = generate_arms(K)"
      ],
      "execution_count": 40,
      "outputs": []
    },
    {
      "cell_type": "code",
      "metadata": {
        "colab": {
          "base_uri": "https://localhost:8080/"
        },
        "id": "AbvAvF8D36HS",
        "outputId": "e5581039-f4d7-4a1c-e90b-bce88d20ba2f"
      },
      "source": [
        "MAB"
      ],
      "execution_count": 41,
      "outputs": [
        {
          "output_type": "execute_result",
          "data": {
            "text/plain": [
              "[<ArmBernoulli p=0.7576315999031067,\n",
              " <ArmBernoulli p=0.2793108820915222,\n",
              " <ArmBernoulli p=0.40306925773620605,\n",
              " <ArmBernoulli p=0.7346844673156738,\n",
              " <ArmBernoulli p=0.029281556606292725]"
            ]
          },
          "metadata": {},
          "execution_count": 41
        }
      ]
    },
    {
      "cell_type": "code",
      "metadata": {
        "colab": {
          "base_uri": "https://localhost:8080/"
        },
        "id": "4Esl8_Rt48Wl",
        "outputId": "47c17b10-fe58-4426-d850-87d9cd7786b5"
      },
      "source": [
        "MAB[1].sample()"
      ],
      "execution_count": 42,
      "outputs": [
        {
          "output_type": "execute_result",
          "data": {
            "text/plain": [
              "tensor([False])"
            ]
          },
          "metadata": {},
          "execution_count": 42
        }
      ]
    },
    {
      "cell_type": "code",
      "metadata": {
        "colab": {
          "base_uri": "https://localhost:8080/"
        },
        "id": "4hmrGWTcRd0d",
        "outputId": "a42284ae-cbd5-4f13-b33b-d8cbbd60d6c4"
      },
      "source": [
        "MAB[1].mean"
      ],
      "execution_count": 43,
      "outputs": [
        {
          "output_type": "execute_result",
          "data": {
            "text/plain": [
              "tensor(0.2793)"
            ]
          },
          "metadata": {},
          "execution_count": 43
        }
      ]
    },
    {
      "cell_type": "markdown",
      "metadata": {
        "id": "YZNmslbKx341"
      },
      "source": [
        "# I. Cas classique des bandits manchots "
      ]
    },
    {
      "cell_type": "markdown",
      "metadata": {
        "tags": [],
        "id": "yG66LKDqx341"
      },
      "source": [
        "## I.a. Solution Gloutonne"
      ]
    },
    {
      "cell_type": "markdown",
      "metadata": {
        "id": "P4US7t0dx342"
      },
      "source": [
        "Le médecin fonctionne sur deux phases :\n",
        "\n",
        "1. Pendant l'exploration, N patients reçoivent une dose d'un vaccin choisi aléatoirement.\n",
        "2. Pendant l'exploitation, le vaccin procurant le meilleur taux d'immunisation est choisi pour les M patients suivants.\n",
        "\n",
        "**1. Implémentez l'algorithme du médecin avec N = 50 et M = 500. Trouvez-vous le meilleur vaccin ? Quel regret obtenez-vous sur l'ensemble des patients ? Faites le test pour 10 valeurs moyennes de MAB**"
      ]
    },
    {
      "cell_type": "code",
      "metadata": {
        "id": "M0PIdPntx342"
      },
      "source": [
        "N = 50\n",
        "M = 500 "
      ],
      "execution_count": 44,
      "outputs": []
    },
    {
      "cell_type": "code",
      "metadata": {
        "id": "oU6aLEy500U-"
      },
      "source": [
        "def medecin_exploration(patients: int):\n",
        "  result = []\n",
        "  for n in range(patients):\n",
        "    idx = random.randrange(K)\n",
        "    immunizated = MAB[idx].sample()\n",
        "    #result.append(tuple((idx, immunizated)))\n",
        "    result.append({'vaccine': idx, 'immunizated': immunizated})\n",
        "\n",
        "  return result"
      ],
      "execution_count": 45,
      "outputs": []
    },
    {
      "cell_type": "code",
      "metadata": {
        "id": "Q56XsYHf8tDk"
      },
      "source": [
        "res_exploration = medecin_exploration(N)"
      ],
      "execution_count": 46,
      "outputs": []
    },
    {
      "cell_type": "code",
      "metadata": {
        "id": "O2Xikk2OAr9C"
      },
      "source": [
        "res_exploration"
      ],
      "execution_count": null,
      "outputs": []
    },
    {
      "cell_type": "code",
      "metadata": {
        "id": "Z5W2gfLECFgK"
      },
      "source": [
        "def best_immunization(result: list):\n",
        "  res_list = []\n",
        "  for vaccine in range(K):\n",
        "    #Ti = sum(1 for elem in result if elem.get('vaccine') == vaccine) #Le nombre de fois que le vaccin a été utilisé\n",
        "    \n",
        "    Ti = 0\n",
        "    sub_sum = 0\n",
        "    for patient in result:\n",
        "      Xi = 1 if patient.get('vaccine') == vaccine else 0\n",
        "      Rj = 1 if patient.get('immunizated') == True else 0\n",
        "      Ti += Xi  #Le nombre de fois que le vaccin a été utilisé\n",
        "      sub_sum += Xi * Rj\n",
        "\n",
        "    Ri = ((1 / Ti) * sub_sum) if Ti > 0 else 0\n",
        "\n",
        "    res_list.append({'vaccine': vaccine, 'rate': Ri})\n",
        "\n",
        "    best = max(res_list, key=lambda x:x['rate'])\n",
        "\n",
        "  return best\n"
      ],
      "execution_count": 59,
      "outputs": []
    },
    {
      "cell_type": "code",
      "metadata": {
        "id": "Sh_e6f8EWfDp"
      },
      "source": [
        "best_vaccine = best_immunization(res_exploration)"
      ],
      "execution_count": 49,
      "outputs": []
    },
    {
      "cell_type": "code",
      "metadata": {
        "colab": {
          "base_uri": "https://localhost:8080/"
        },
        "id": "mKratb6cPgrN",
        "outputId": "e5b7ac13-5871-4813-d6c7-e31ac2287a5a"
      },
      "source": [
        "best_vaccine"
      ],
      "execution_count": 50,
      "outputs": [
        {
          "output_type": "execute_result",
          "data": {
            "text/plain": [
              "{'rate': 0.7777777777777777, 'vaccine': 2}"
            ]
          },
          "metadata": {},
          "execution_count": 50
        }
      ]
    },
    {
      "cell_type": "code",
      "metadata": {
        "id": "pTLjiCYuW4ip"
      },
      "source": [
        "def medecin_exploitation(patients: int, vaccin: int):\n",
        "  result = []\n",
        "  for idx in range(patients):\n",
        "    immunizated = MAB[vaccin].sample()\n",
        "    #result.append(tuple((idx, immunizated)))\n",
        "    result.append(immunizated)\n",
        "\n",
        "  return result"
      ],
      "execution_count": 51,
      "outputs": []
    },
    {
      "cell_type": "code",
      "metadata": {
        "id": "vqZuZm6ix343"
      },
      "source": [
        "res_exploitation = medecin_exploitation(M, best_vaccine.get('vaccine'))\n",
        "res_exploitation"
      ],
      "execution_count": null,
      "outputs": []
    },
    {
      "cell_type": "code",
      "metadata": {
        "id": "PxBwZVnGK2qt"
      },
      "source": [
        "def regret_minimization(N_exploration_patients, M_exploitation_patients, exploration_result, exploitation_result):\n",
        "  n = N_exploration_patients + M_exploitation_patients\n",
        "  mu = max([ mab.mean for mab in MAB])\n",
        "  recompense = 0\n",
        "  for patient in exploration_result:\n",
        "    recompense += 1 if patient.get('immunizated') else 0\n",
        "  for res in exploitation_result:\n",
        "    recompense += 1 if res else 0\n",
        "\n",
        "  rn = n * mu - recompense\n",
        "  return rn, recompense"
      ],
      "execution_count": 61,
      "outputs": []
    },
    {
      "cell_type": "code",
      "metadata": {
        "id": "khr_WKeQTjC0"
      },
      "source": [
        "regret, recompense = regret_minimization(N, M, res_exploration, res_exploitation)"
      ],
      "execution_count": 62,
      "outputs": []
    },
    {
      "cell_type": "code",
      "metadata": {
        "colab": {
          "base_uri": "https://localhost:8080/"
        },
        "id": "7mQIY_jIUXli",
        "outputId": "d581bdda-9783-41f6-a0ef-d9c0eb65d1fb"
      },
      "source": [
        "regret"
      ],
      "execution_count": 63,
      "outputs": [
        {
          "output_type": "execute_result",
          "data": {
            "text/plain": [
              "tensor(184.6974)"
            ]
          },
          "metadata": {},
          "execution_count": 63
        }
      ]
    },
    {
      "cell_type": "code",
      "metadata": {
        "colab": {
          "base_uri": "https://localhost:8080/"
        },
        "id": "tzPq2FZaXzko",
        "outputId": "8ac7702c-1271-4358-c0a2-335e1afb780d"
      },
      "source": [
        "recompense"
      ],
      "execution_count": 64,
      "outputs": [
        {
          "output_type": "execute_result",
          "data": {
            "text/plain": [
              "232"
            ]
          },
          "metadata": {},
          "execution_count": 64
        }
      ]
    },
    {
      "cell_type": "markdown",
      "metadata": {
        "id": "BXkNnQcdx342"
      },
      "source": [
        "**2. Tracez le regret et la récompense de votre algorithme pour différentes valeurs de N allant de 5 à 400**"
      ]
    },
    {
      "cell_type": "code",
      "metadata": {
        "id": "TgSyWFX3WOTY"
      },
      "source": [
        "regrets_list = []\n",
        "recompenses_list = []\n",
        "\n",
        "for n_patients in range(5, 400):\n",
        "  res_explor = medecin_exploration(n_patients)\n",
        "  best_vacc = best_immunization(res_explor)\n",
        "  res_exploit = medecin_exploitation(M, best_vacc.get('vaccine'))\n",
        "  regr, recomp = regret_minimization(n_patients, M, res_explor, res_exploit)\n",
        "\n",
        "  regrets_list.append(regr)\n",
        "  recompenses_list.append(recomp)"
      ],
      "execution_count": 79,
      "outputs": []
    },
    {
      "cell_type": "code",
      "metadata": {
        "colab": {
          "base_uri": "https://localhost:8080/",
          "height": 313
        },
        "id": "JPspVjmYhK9g",
        "outputId": "09bd088b-b43c-4015-9d26-84957860fa30"
      },
      "source": [
        "x = np.linspace(5, 400, 395)  # Sample data.\n",
        "\n",
        "plt.plot(x, regrets_list, label='regret')  \n",
        "plt.xlabel('Nb de patient')\n",
        "plt.title(\"Regret de l'algorithme\")\n",
        "plt.legend()"
      ],
      "execution_count": 83,
      "outputs": [
        {
          "output_type": "execute_result",
          "data": {
            "text/plain": [
              "<matplotlib.legend.Legend at 0x7f9920391650>"
            ]
          },
          "metadata": {},
          "execution_count": 83
        },
        {
          "output_type": "display_data",
          "data": {
            "image/png": "[encoded data removed]",
            "text/plain": [
              "<Figure size 432x288 with 1 Axes>"
            ]
          },
          "metadata": {
            "needs_background": "light"
          }
        }
      ]
    },
    {
      "cell_type": "code",
      "metadata": {
        "colab": {
          "base_uri": "https://localhost:8080/",
          "height": 313
        },
        "id": "s8_GYv6X0TEm",
        "outputId": "0af72444-c54c-4065-fdc6-268386548965"
      },
      "source": [
        "plt.plot(x, recompenses_list, label='récompense')  # etc.\n",
        "plt.xlabel('Nb de patient')\n",
        "plt.title(\"Récompense de l'algorithme\")\n",
        "plt.legend()"
      ],
      "execution_count": 84,
      "outputs": [
        {
          "output_type": "execute_result",
          "data": {
            "text/plain": [
              "<matplotlib.legend.Legend at 0x7f9920391f50>"
            ]
          },
          "metadata": {},
          "execution_count": 84
        },
        {
          "output_type": "display_data",
          "data": {
            "image/png": "[encoded data removed]",
            "text/plain": [
              "<Figure size 432x288 with 1 Axes>"
            ]
          },
          "metadata": {
            "needs_background": "light"
          }
        }
      ]
    },
    {
      "cell_type": "markdown",
      "metadata": {
        "tags": [],
        "id": "EE09O7_7x343"
      },
      "source": [
        "## I.b. Borne inférieure de Lai & Robbins [Lai et Robbins, 1985]"
      ]
    },
    {
      "cell_type": "markdown",
      "metadata": {
        "id": "jwnlGWG0x343"
      },
      "source": [
        "Pour un modèle de manchot de Bernoulli (équivalent au problème étudié), la borne inférieure de Lai et Robbins [Lai et Robbins, 1985] stipule que :\n",
        "\n",
        "$$\\lim \\inf_{T\\rightarrow \\infty} \\frac{R_T}{\\log T} \\geq \\sum_{a:\\mu_a \\lt \\mu^*} \\frac{\\mu^∗−\\mu_a}{kl(\\mu_a, \\mu^*)}  :=C(\\mu)$$\n",
        " \n",
        " avec $kl(x, y) = x \\log(x/y) + (1 − x) \\log((1 − x)/(1 − y))$ et  $R_T$ la récompense obtenue sur $T$ patients. En autres termes, cela signifie que la machine optimale est jouée exponentiellement plus souvent que les autres machines"
      ]
    },
    {
      "cell_type": "code",
      "metadata": {
        "id": "vcs7XUcu_p35"
      },
      "source": [
        "import math"
      ],
      "execution_count": null,
      "outputs": []
    },
    {
      "cell_type": "code",
      "metadata": {
        "id": "U0_3zYZwzb_C"
      },
      "source": [
        "def c_mu(mba_vaccines):\n",
        "  sum_result = 0\n",
        "  mu_star = max([mab.mean for mab in mba_vaccines])\n",
        "\n",
        "  for mba in mba_vaccines if mba.mean < mu_star :\n",
        "    kl = mba.mean * math.log(mba.mean / mu_star) + (1 - mba.mean) * math.log((1 - mba.mean) / (1 - mu_star))\n",
        "    sum_result +=  (mu_star - mba.mean) / kl\n",
        "\n"
      ],
      "execution_count": null,
      "outputs": []
    },
    {
      "cell_type": "markdown",
      "metadata": {
        "id": "GrfF4kaqx344"
      },
      "source": [
        "**3. Tracez cette borne au-dessus du graphique précédent**"
      ]
    },
    {
      "cell_type": "code",
      "metadata": {
        "id": "eYhbalTqx344"
      },
      "source": [
        ""
      ],
      "execution_count": null,
      "outputs": []
    },
    {
      "cell_type": "markdown",
      "metadata": {
        "id": "n77arvEDx344"
      },
      "source": [
        "## I.c. Upper Confidence Bounds"
      ]
    },
    {
      "cell_type": "markdown",
      "metadata": {
        "id": "vnAgKA_ux344"
      },
      "source": [
        "**4. Implémentez l'algorithme décrit en cours. Visualisez l'évolution de l'index de chaque machine à l'aide de Matplotlib.**"
      ]
    },
    {
      "cell_type": "code",
      "metadata": {
        "id": "Xk4N1Xebx345"
      },
      "source": [
        ""
      ],
      "execution_count": null,
      "outputs": []
    },
    {
      "cell_type": "markdown",
      "metadata": {
        "id": "sG2DSqmcx346"
      },
      "source": [
        "**5. Ajoutez un coefficient de votre choix devant le biais pour équilibrer exploration et exploitation et réduire le regret. Représentez sur un même graphique les performances d'UCB avec l'algorithme glouton et la borne inférieure**"
      ]
    },
    {
      "cell_type": "code",
      "metadata": {
        "id": "_BNYjSLyx346"
      },
      "source": [
        ""
      ],
      "execution_count": null,
      "outputs": []
    },
    {
      "cell_type": "markdown",
      "metadata": {
        "id": "xCBHlBS4x347"
      },
      "source": [
        "# Echantillonnage de Thomson"
      ]
    },
    {
      "cell_type": "markdown",
      "metadata": {
        "id": "R6AN5uSJx347"
      },
      "source": [
        "**6. Implémentez l'algorithme. Visualisez chaque étape avec un [graphique en violon](https://en.wikipedia.org/wiki/Violin_plot)**"
      ]
    },
    {
      "cell_type": "code",
      "metadata": {
        "id": "5vTvEJU-x347"
      },
      "source": [
        ""
      ],
      "execution_count": null,
      "outputs": []
    },
    {
      "cell_type": "markdown",
      "metadata": {
        "id": "CRaqo9QLx348"
      },
      "source": [
        "**7. Comparez son regret avec les graphiques précédents**"
      ]
    },
    {
      "cell_type": "code",
      "metadata": {
        "id": "YixjV3znx348"
      },
      "source": [
        ""
      ],
      "execution_count": null,
      "outputs": []
    },
    {
      "cell_type": "markdown",
      "metadata": {
        "id": "B9xVB_Csx349"
      },
      "source": [
        "# Conclusion\n",
        "\n",
        "**8. Comparez ce qu'il se passe avec un grand nombre de vaccins disponibles (K=100). Faites le lien avec la [malédiction de la dimension](https://fr.wikipedia.org/wiki/Fl%C3%A9au_de_la_dimension).**"
      ]
    },
    {
      "cell_type": "code",
      "metadata": {
        "id": "q9IWNBwEx349"
      },
      "source": [
        ""
      ],
      "execution_count": null,
      "outputs": []
    },
    {
      "cell_type": "markdown",
      "metadata": {
        "id": "spOE9U5gx349"
      },
      "source": [
        "# BONUS\n",
        "\n",
        "Maintenant, on suppose que l'on peut proposer au patient un mélange des vaccins, c'est-à-dire que l'action choisie est donc une combinaison linéaire des vaccins.\n",
        "\n",
        "**9. Implémenter l'algorithme Lin UCB tel que décrit dans ce document.**\n",
        "\n",
        "https://www.yoanrussac.com/en/talk/talk1-ens/intro_linear_bandits.pdf"
      ]
    },
    {
      "cell_type": "code",
      "metadata": {
        "id": "ZOWeI2gix34-"
      },
      "source": [
        ""
      ],
      "execution_count": null,
      "outputs": []
    }
  ]
}